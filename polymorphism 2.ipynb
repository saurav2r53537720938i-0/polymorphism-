{
 "cells": [
  {
   "cell_type": "code",
   "execution_count": 1,
   "id": "d1600251-58c3-4571-a1c2-3be4929b263e",
   "metadata": {},
   "outputs": [],
   "source": [
    "def test(a,b):\n",
    "    return a+b"
   ]
  },
  {
   "cell_type": "code",
   "execution_count": 2,
   "id": "2a9193e5-757c-421d-884b-8e15eb3c7fa2",
   "metadata": {},
   "outputs": [
    {
     "data": {
      "text/plain": [
       "7"
      ]
     },
     "execution_count": 2,
     "metadata": {},
     "output_type": "execute_result"
    }
   ],
   "source": [
    "test(3,4)"
   ]
  },
  {
   "cell_type": "code",
   "execution_count": 3,
   "id": "d5c2d617-b2a4-4c4a-9279-8726b367292d",
   "metadata": {},
   "outputs": [
    {
     "data": {
      "text/plain": [
       "'sudhkumar'"
      ]
     },
     "execution_count": 3,
     "metadata": {},
     "output_type": "execute_result"
    }
   ],
   "source": [
    "test(\"sudh\",\"kumar\")"
   ]
  },
  {
   "cell_type": "code",
   "execution_count": 4,
   "id": "d075ce88-4d86-4362-9761-bc17921c1dc3",
   "metadata": {},
   "outputs": [
    {
     "data": {
      "text/plain": [
       "[3, 4, 5, 6, 45, 767, 67]"
      ]
     },
     "execution_count": 4,
     "metadata": {},
     "output_type": "execute_result"
    }
   ],
   "source": [
    "test([3,4,5,6],[45,767,67])"
   ]
  },
  {
   "cell_type": "code",
   "execution_count": 5,
   "id": "3db1265b-9ebb-48e0-88ae-49b5f47cb5a0",
   "metadata": {},
   "outputs": [],
   "source": [
    "class data_science:\n",
    "    \n",
    "    def syllabus(self):\n",
    "        print(\"this is my syllabus for data science master\")"
   ]
  },
  {
   "cell_type": "code",
   "execution_count": 6,
   "id": "91b99b74-0e5a-4865-a614-69370019632c",
   "metadata": {},
   "outputs": [],
   "source": [
    "class web_dev:\n",
    "    \n",
    "    def syllabus(self):\n",
    "        print(\"this is my syllabus for web dev\")"
   ]
  },
  {
   "cell_type": "code",
   "execution_count": 7,
   "id": "0a6c4856-49a2-4e76-86cd-baac2da5f6a3",
   "metadata": {},
   "outputs": [],
   "source": [
    "def class_pareer(class_obj):\n",
    "    for i in class_obj:\n",
    "        i.syllabus()"
   ]
  },
  {
   "cell_type": "code",
   "execution_count": 8,
   "id": "513cee3e-584c-40b9-bc9b-77ab6995ce83",
   "metadata": {},
   "outputs": [],
   "source": [
    "data_science = data_science()"
   ]
  },
  {
   "cell_type": "code",
   "execution_count": 9,
   "id": "8070a3b1-a410-4b43-9eb3-75ab6ca8f01b",
   "metadata": {},
   "outputs": [],
   "source": [
    "web_dev = web_dev()"
   ]
  },
  {
   "cell_type": "code",
   "execution_count": 10,
   "id": "4dd5ceb7-e520-49ec-8861-4da953ad218d",
   "metadata": {},
   "outputs": [],
   "source": [
    "class_obj = [data_science,web_dev]"
   ]
  },
  {
   "cell_type": "code",
   "execution_count": 11,
   "id": "b88d041b-75a3-489f-bf02-9a60db1e16ee",
   "metadata": {},
   "outputs": [
    {
     "name": "stdout",
     "output_type": "stream",
     "text": [
      "this is my syllabus for data science master\n",
      "this is my syllabus for web dev\n"
     ]
    }
   ],
   "source": [
    "class_pareer(class_obj)"
   ]
  },
  {
   "cell_type": "code",
   "execution_count": null,
   "id": "bf31f33b-fb24-4fec-9d26-eb81d88c29ba",
   "metadata": {},
   "outputs": [],
   "source": []
  },
  {
   "cell_type": "code",
   "execution_count": null,
   "id": "34cd6c95-dd2b-45d3-9d3b-da8f33527c35",
   "metadata": {},
   "outputs": [],
   "source": []
  }
 ],
 "metadata": {
  "kernelspec": {
   "display_name": "Python 3 (ipykernel)",
   "language": "python",
   "name": "python3"
  },
  "language_info": {
   "codemirror_mode": {
    "name": "ipython",
    "version": 3
   },
   "file_extension": ".py",
   "mimetype": "text/x-python",
   "name": "python",
   "nbconvert_exporter": "python",
   "pygments_lexer": "ipython3",
   "version": "3.10.8"
  }
 },
 "nbformat": 4,
 "nbformat_minor": 5
}
